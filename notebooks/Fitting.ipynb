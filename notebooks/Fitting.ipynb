{
 "cells": [
  {
   "cell_type": "code",
   "execution_count": 9,
   "id": "abd2d56f",
   "metadata": {},
   "outputs": [
    {
     "name": "stdout",
     "output_type": "stream",
     "text": [
      "The jupyter_black extension is already loaded. To reload it, use:\n",
      "  %reload_ext jupyter_black\n"
     ]
    }
   ],
   "source": [
    "import pandas as pd\n",
    "import numpy as np\n",
    "import matplotlib.pyplot as plt\n",
    "import sys\n",
    "\n",
    "\n",
    "sys.path.append(\"../functions\")\n",
    "\n",
    "from Utility import *\n",
    "\n",
    "%matplotlib inline\n",
    "%load_ext jupyter_black\n",
    "\n",
    "# plt.style.use(\"../matplotlib_style.txt\")"
   ]
  },
  {
   "cell_type": "markdown",
   "id": "6b405dac",
   "metadata": {},
   "source": [
    "## Read Data and Preprocessing "
   ]
  },
  {
   "cell_type": "code",
   "execution_count": 8,
   "id": "88c1ca8a",
   "metadata": {},
   "outputs": [],
   "source": [
    "raw_data = pd.read_csv(\"../data/twoArmedandit_with_confidence.csv\")\n",
    "# selecting usefull columns\n",
    "data = raw_data[\n",
    "    [\n",
    "        \"sub\",\n",
    "        \"condition\",\n",
    "        \"cresp\",\n",
    "        \"resp\",\n",
    "        \"cor\",\n",
    "        \"cj\",\n",
    "        \"phase\",\n",
    "        \"trial\",\n",
    "        \"trial_rev\",\n",
    "        \"reward\",\n",
    "        \"Lreward\",\n",
    "        \"Hreward\",\n",
    "    ]\n",
    "]\n",
    "# excluding chance level subjects\n",
    "chance_level_subjects = [45634, 46069, 46279, 46303, 46651, 47398]\n",
    "\n",
    "# selecting portion of data with proper task\n",
    "lv_induction_data = data[\n",
    "    (data[\"phase\"] == \"induction\")\n",
    "    & (data[\"condition\"] == \"hc\")\n",
    "    & (~data[\"sub\"].isin(chance_level_subjects))\n",
    "]\n",
    "subjects = lv_induction_data[\"sub\"].unique()"
   ]
  },
  {
   "cell_type": "markdown",
   "id": "8737a854",
   "metadata": {},
   "source": [
    "## Fitting Backward and Forward"
   ]
  },
  {
   "cell_type": "code",
   "execution_count": 3,
   "id": "1e0e1385",
   "metadata": {},
   "outputs": [],
   "source": [
    "from Fitting import fit_for_all_subjects\n",
    "from Forward import forward_fitting\n",
    "\n",
    "params_ranges = [[0, 1], [0, 100], [1, 5], [0, 1]]\n",
    "n_fitting = 3\n",
    "n_threads = 2\n",
    "res = fit_for_all_subjects(\n",
    "    params_ranges, n_threads, n_fitting, subjects, lv_induction_data, forward_fitting\n",
    ")\n",
    "forward_df = make_df_after_fitting(\n",
    "    res, [\"alpha\", \"beta\", \"lbound\", \"bound_range\"], subjects\n",
    ")\n",
    "forward_df[\"hbound\"] = (5 - forward_df[\"lbound\"]) * (\n",
    "    forward_df[\"bound_range\"]\n",
    ") + forward_df[\"lbound\"]\n",
    "\n",
    "forward_df.to_csv(\"../results/forward_df.csv\")"
   ]
  },
  {
   "cell_type": "code",
   "execution_count": null,
   "id": "cf6e3190",
   "metadata": {},
   "outputs": [],
   "source": [
    "\n",
    "min_neg_lls = np.zeros((len(subjects), n_fitting))\n",
    "for i, r in enumerate(res):\n",
    "    min_neg_lls[i, :] = r[1]\n",
    "\n",
    "plt.plot(np.mean(min_neg_lls, axis=0))\n",
    "plt.show()"
   ]
  },
  {
   "cell_type": "code",
   "execution_count": null,
   "id": "35dde7c7",
   "metadata": {},
   "outputs": [],
   "source": [
    "from Backward import backward_fitting\n",
    "\n",
    "back_res = fit_for_all_subjects(\n",
    "    params_ranges, n_threads, n_fitting, subjects, lv_induction_data, backward_fitting\n",
    ")\n",
    "backward_df = make_df_after_fitting(\n",
    "    back_res, [\"alpha\", \"beta\", \"lbound\", \"bound_range\"], subjects\n",
    ")\n",
    "backward_df[\"hbound\"] = (5 - backward_df[\"lbound\"]) * (\n",
    "    backward_df[\"bound_range\"]\n",
    ") + backward_df[\"lbound\"]\n",
    "\n",
    "backward_df.to_csv(\"../results/backward_df.csv\")"
   ]
  },
  {
   "cell_type": "code",
   "execution_count": 7,
   "id": "c16ad49d",
   "metadata": {},
   "outputs": [],
   "source": [
    "from Fitting import fit_brier\n",
    "\n",
    "brier_res = fit_brier(subjects, lv_induction_data, n_threads=n_threads)\n",
    "scaled_brier_ls = []\n",
    "scaled_brier_lb = []\n",
    "scaled_brier_ub = []\n",
    "for res in brier_res:\n",
    "    scaled_brier_ls.append(res[1])\n",
    "    scaled_brier_lb.append(res[0][0])\n",
    "    scaled_brier_ub.append(res[0][1] * (1 - res[0][0]) + res[0][0])\n",
    "scaled_brier_df = pd.DataFrame(\n",
    "    list(zip(subjects, scaled_brier_lb, scaled_brier_ub, scaled_brier_ls)),\n",
    "    columns=[\"subject\", \"lb\", \"ub\", \"brier\"],\n",
    ")\n",
    "scaled_brier_df[\"scaled_QSR\"] = 1 - scaled_brier_df[\"brier\"]\n",
    "scaled_brier_df.to_csv(\"../results/scaled_brier_df.csv\")"
   ]
  },
  {
   "cell_type": "markdown",
   "id": "8c2006a3",
   "metadata": {},
   "source": [
    "## Results"
   ]
  },
  {
   "cell_type": "code",
   "execution_count": null,
   "id": "de1f043e",
   "metadata": {},
   "outputs": [],
   "source": [
    "forward_df = pd.read_csv(\"../results/forward_df.csv\")\n",
    "backward_df = pd.read_csv(\"../results/backward_df.csv\")"
   ]
  },
  {
   "cell_type": "code",
   "execution_count": null,
   "id": "215bed0f",
   "metadata": {},
   "outputs": [],
   "source": [
    "from Plotting import comparison_plot\n",
    "from Utility import merge_result_df\n",
    "\n",
    "groups = [\"Forward\", \"Backward\"]\n",
    "df = merge_result_df([forward_df, backward_df], groups, 400, subjects)\n",
    "\n",
    "plt.figure(figsize=(15, 8))\n",
    "plt.subplot(1, 2, 1)\n",
    "comparison_plot(\n",
    "    df,\n",
    "    \"alpha\",\n",
    "    groups,\n",
    "    \"\",\n",
    "    [[\"Forward\", \"Backward\"]],\n",
    "    [1.1],\n",
    "    [0.02],\n",
    "    y_label=\"fitted alpha\",\n",
    ")\n",
    "plt.subplot(1, 2, 2)\n",
    "comparison_plot(\n",
    "    df,\n",
    "    \"beta\",\n",
    "    groups,\n",
    "    \"\",\n",
    "    [[\"Forward\", \"Backward\"]],\n",
    "    [100],\n",
    "    [1],\n",
    "    y_label=\"fitted beta\",\n",
    ")\n",
    "\n",
    "plt.savefig(\"../figs/alpha_beta.png\")"
   ]
  },
  {
   "cell_type": "code",
   "execution_count": null,
   "id": "ca2904ee",
   "metadata": {},
   "outputs": [],
   "source": [
    "plt.figure(figsize=(15, 7))\n",
    "plt.subplot(1, 2, 1)\n",
    "comparison_plot(\n",
    "    df,\n",
    "    \"lbound\",\n",
    "    groups,\n",
    "    \"\",\n",
    "    [[\"Forward\", \"Backward\"]],\n",
    "    [5.1],\n",
    "    [0.02],\n",
    "    y_label=\"Lower bound\",\n",
    ")\n",
    "plt.subplot(1, 2, 2)\n",
    "comparison_plot(\n",
    "    df,\n",
    "    \"hbound\",\n",
    "    groups,\n",
    "    \"\",\n",
    "    [[\"Forward\", \"Backward\"]],\n",
    "    [5.1],\n",
    "    [0.02],\n",
    "    y_label=\"Higher bound\",\n",
    ")\n",
    "plt.savefig(\"../figs/bounds.png\")"
   ]
  },
  {
   "cell_type": "code",
   "execution_count": null,
   "id": "c78f2402",
   "metadata": {},
   "outputs": [],
   "source": [
    "plt.figure(figsize=(8, 7))\n",
    "df[\"Bound_Range\"] = df[\"hbound\"] - df[\"lbound\"]\n",
    "comparison_plot(\n",
    "    df,\n",
    "    \"Bound_Range\",\n",
    "    groups,\n",
    "    \"\",\n",
    "    [[\"Forward\", \"Backward\"]],\n",
    "    [4.2],\n",
    "    [0.02],\n",
    "    y_label=\"Higher bound- Lower bound \\n\" + r\"$(H_c - L_c$)\",\n",
    ")\n",
    "plt.savefig(\"../figs/hc_lc.png\", dpi=400)"
   ]
  },
  {
   "cell_type": "code",
   "execution_count": null,
   "id": "d35b40ae",
   "metadata": {},
   "outputs": [],
   "source": [
    "plt.figure(figsize=(8, 7))\n",
    "# plt.subplot(1, 2, 1)\n",
    "comparison_plot(\n",
    "    df, \"LL\", groups, \"\", [[\"Forward\", \"Backward\"]], [350], [10], y_label=\"Negative LL\"\n",
    ")\n",
    "plt.savefig(\"../figs/neg_LL_compare.png\", dpi=400)"
   ]
  },
  {
   "cell_type": "code",
   "execution_count": null,
   "id": "600705e1",
   "metadata": {},
   "outputs": [],
   "source": [
    "plt.figure(figsize=(8, 7))\n",
    "# plt.subplot(1, 2, 1)\n",
    "comparison_plot(\n",
    "    df,\n",
    "    \"Confidence Distance\",\n",
    "    groups,\n",
    "    \"\",\n",
    "    [[\"Forward\", \"Backward\"]],\n",
    "    [2.1],\n",
    "    [0.01],\n",
    "    y_label=\"Confidence Distance\",\n",
    "    legend=\"upper right\",\n",
    ")\n",
    "plt.savefig(\"../figs/conf_dist_compare.png\", dpi=400)"
   ]
  },
  {
   "cell_type": "code",
   "execution_count": null,
   "id": "c3e321e5",
   "metadata": {},
   "outputs": [],
   "source": []
  }
 ],
 "metadata": {
  "kernelspec": {
   "display_name": "Python 3 (ipykernel)",
   "language": "python",
   "name": "python3"
  },
  "language_info": {
   "codemirror_mode": {
    "name": "ipython",
    "version": 3
   },
   "file_extension": ".py",
   "mimetype": "text/x-python",
   "name": "python",
   "nbconvert_exporter": "python",
   "pygments_lexer": "ipython3",
   "version": "3.9.6"
  }
 },
 "nbformat": 4,
 "nbformat_minor": 5
}
