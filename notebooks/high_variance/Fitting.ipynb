{
 "cells": [
  {
   "cell_type": "code",
   "execution_count": 2,
   "id": "291d0808",
   "metadata": {},
   "outputs": [],
   "source": [
    "import pandas as pd\n",
    "import numpy as np\n",
    "import matplotlib.pyplot as plt\n",
    "import sys\n",
    "\n",
    "sys.path.append(\"../../functions\")\n",
    "\n",
    "from Utils import *\n",
    "from Plotting import *\n",
    "from Fitting import fit_for_all_subjects_parallel, fit_brier\n",
    "from Forward import forward_fitting\n",
    "from Backward import fit_model_backward\n"
   ]
  },
  {
   "cell_type": "code",
   "execution_count": 3,
   "id": "2068bd3b",
   "metadata": {},
   "outputs": [],
   "source": [
    "chance_level_subjects = [45634, 46069, 46279, 46303, 46651, 47398]\n",
    "data = preprocess_data(\"../../data/twoArmedandit_with_confidence.csv\", chance_level_subjects, \"induction\", \"lc1\")\n",
    "subjects = data[\"sub\"].unique()\n",
    "n_fitting = 120\n",
    "n_threads = 100"
   ]
  },
  {
   "cell_type": "code",
   "execution_count": 5,
   "id": "c52ff641",
   "metadata": {},
   "outputs": [],
   "source": [
    "forward_params_ranges = [[0.01, 1], [0.01, 100], [1, 5], [0.1, 1]]\n",
    "forward_res = fit_for_all_subjects_parallel(forward_params_ranges, n_threads, n_fitting, subjects, data, forward_fitting, True)\n",
    "forward_df = make_df_after_fitting(forward_res, [\"alpha\", \"beta\", \"lbound\", \"bound_range\"], subjects)\n",
    "forward_df[\"hbound\"] = (5 - forward_df[\"lbound\"]) * forward_df[\"bound_range\"] + forward_df[\"lbound\"]\n",
    "forward_df.to_csv(\"forward_df_high.csv\")\n"
   ]
  },
  {
   "cell_type": "code",
   "execution_count": 6,
   "id": "8c80d4e3",
   "metadata": {},
   "outputs": [],
   "source": [
    "backward_params_ranges = [[0.01, 1], [0.01, 100], [1, 5], [0.1, 1]]\n",
    "backward_res = fit_for_all_subjects_parallel(backward_params_ranges, n_threads, n_fitting, subjects, data, fit_model_backward, True)\n",
    "backward_df = make_df_after_fitting(backward_res, [\"alpha\", \"beta\", \"lbound\", \"bound_range\"], subjects)\n",
    "backward_df[\"hbound\"] = (5 - backward_df[\"lbound\"]) * backward_df[\"bound_range\"] + backward_df[\"lbound\"]\n",
    "backward_df.to_csv(\"backward_df_high.csv\")"
   ]
  },
  {
   "cell_type": "code",
   "execution_count": 7,
   "id": "92b1db25",
   "metadata": {},
   "outputs": [],
   "source": [
    "backward_params_ranges_unscaled = [[0, 1], [0, 100]]\n",
    "backward_res_unscaled = fit_for_all_subjects_parallel(backward_params_ranges_unscaled, n_threads, n_fitting, subjects, data, fit_model_backward, False)\n",
    "backward_df_unscaled = make_df_after_fitting(backward_res_unscaled, [\"alpha\", \"beta\"], subjects)\n",
    "backward_df_unscaled[\"lbound\"], backward_df_unscaled[\"hbound\"] = 1, 5\n",
    "backward_df_unscaled.to_csv(\"backward_df_unscaled_high.csv\")"
   ]
  },
  {
   "cell_type": "code",
   "execution_count": 8,
   "id": "7efea236",
   "metadata": {},
   "outputs": [],
   "source": [
    "from Fitting import fit_brier\n",
    "\n",
    "brier_res = fit_brier(subjects, data, n_threads=n_threads)\n",
    "scaled_brier_ls = []\n",
    "scaled_brier_lb = []\n",
    "scaled_brier_ub = []\n",
    "for res in brier_res:\n",
    "    scaled_brier_ls.append(res[1])\n",
    "    scaled_brier_lb.append(res[0][0])\n",
    "    scaled_brier_ub.append(res[0][1] * (1 - res[0][0]) + res[0][0])\n",
    "scaled_brier_df = pd.DataFrame(\n",
    "    list(zip(subjects, scaled_brier_lb, scaled_brier_ub, scaled_brier_ls)),\n",
    "    columns=[\"subject\", \"lb\", \"ub\", \"brier\"],\n",
    ")\n",
    "scaled_brier_df[\"scaled_QSR\"] = 1 - scaled_brier_df[\"brier\"]\n",
    "scaled_brier_df.to_csv(\"scaled_brier_df_high.csv\")"
   ]
  },
  {
   "cell_type": "code",
   "execution_count": 1,
   "id": "2b3bb9f2",
   "metadata": {},
   "outputs": [
    {
     "name": "stdout",
     "output_type": "stream",
     "text": [
      "\u001b[33mWARNING: Retrying (Retry(total=4, connect=None, read=None, redirect=None, status=None)) after connection broken by 'NewConnectionError('<pip._vendor.urllib3.connection.HTTPSConnection object at 0x7fba2f303e20>: Failed to establish a new connection: [Errno -3] Temporary failure in name resolution')': /simple/numba/\u001b[0m\n",
      "\u001b[33mWARNING: Retrying (Retry(total=3, connect=None, read=None, redirect=None, status=None)) after connection broken by 'NewConnectionError('<pip._vendor.urllib3.connection.HTTPSConnection object at 0x7fba2f271070>: Failed to establish a new connection: [Errno -3] Temporary failure in name resolution')': /simple/numba/\u001b[0m\n",
      "\u001b[33mWARNING: Retrying (Retry(total=2, connect=None, read=None, redirect=None, status=None)) after connection broken by 'NewConnectionError('<pip._vendor.urllib3.connection.HTTPSConnection object at 0x7fba2f271220>: Failed to establish a new connection: [Errno -3] Temporary failure in name resolution')': /simple/numba/\u001b[0m\n",
      "\u001b[33mWARNING: Retrying (Retry(total=1, connect=None, read=None, redirect=None, status=None)) after connection broken by 'NewConnectionError('<pip._vendor.urllib3.connection.HTTPSConnection object at 0x7fba2f2713d0>: Failed to establish a new connection: [Errno -3] Temporary failure in name resolution')': /simple/numba/\u001b[0m\n",
      "\u001b[33mWARNING: Retrying (Retry(total=0, connect=None, read=None, redirect=None, status=None)) after connection broken by 'NewConnectionError('<pip._vendor.urllib3.connection.HTTPSConnection object at 0x7fba2f271580>: Failed to establish a new connection: [Errno -3] Temporary failure in name resolution')': /simple/numba/\u001b[0m\n",
      "\u001b[31mERROR: Could not find a version that satisfies the requirement numba\u001b[0m\n",
      "\u001b[31mERROR: No matching distribution found for numba\u001b[0m\n"
     ]
    }
   ],
   "source": [
    "!pip install numba\n"
   ]
  },
  {
   "cell_type": "code",
   "execution_count": null,
   "id": "245973f5",
   "metadata": {},
   "outputs": [],
   "source": []
  }
 ],
 "metadata": {
  "kernelspec": {
   "display_name": "Python 3 (ipykernel)",
   "language": "python",
   "name": "python3"
  },
  "language_info": {
   "codemirror_mode": {
    "name": "ipython",
    "version": 3
   },
   "file_extension": ".py",
   "mimetype": "text/x-python",
   "name": "python",
   "nbconvert_exporter": "python",
   "pygments_lexer": "ipython3",
   "version": "3.8.10"
  }
 },
 "nbformat": 4,
 "nbformat_minor": 5
}
